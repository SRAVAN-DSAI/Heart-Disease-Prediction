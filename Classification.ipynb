{
 "cells": [
  {
   "cell_type": "code",
   "execution_count": 18,
   "id": "55402135-224e-45c9-977d-fa5b0995cc41",
   "metadata": {},
   "outputs": [],
   "source": [
    "import numpy as np\n",
    "import pandas as pd\n",
    "import matplotlib.pyplot as plt\n",
    "import seaborn as sns\n",
    "import urllib\n",
    "import scipy.stats as stats"
   ]
  },
  {
   "cell_type": "code",
   "execution_count": 20,
   "id": "148a9413-d347-4d33-815a-8e53a1fb9222",
   "metadata": {},
   "outputs": [],
   "source": [
    "url = \"https://archive.ics.uci.edu/ml/machine-learning-databases/heart-disease/processed.cleveland.data\""
   ]
  },
  {
   "cell_type": "code",
   "execution_count": null,
   "id": "c526e4b2-78d4-4acb-9061-0e268e397b2a",
   "metadata": {},
   "outputs": [],
   "source": [
    "urllib.request.urlretrieve(url,\"heart.csv\")"
   ]
  },
  {
   "cell_type": "code",
   "execution_count": 23,
   "id": "a31479f6-cb74-44aa-8db4-d6201eba7b3d",
   "metadata": {},
   "outputs": [],
   "source": [
    "column_names = \"age\", \"sex\", \"cp\", \"trestbps\", \"chol\", \"fbs\", \"restecg\", \"thalach\", \"examg\", \"oldpeak\", \"slope\", \"ca\", \"thal\", \"target\""
   ]
  },
  {
   "cell_type": "code",
   "execution_count": 24,
   "id": "81b7f09a-306c-4c86-ad44-7577866f119e",
   "metadata": {},
   "outputs": [],
   "source": [
    "df = pd.read_csv(\"heart.csv\" , names = column_names)"
   ]
  },
  {
   "cell_type": "code",
   "execution_count": null,
   "id": "259c382f-7790-4262-9eca-95c37c25b36b",
   "metadata": {},
   "outputs": [],
   "source": [
    "df"
   ]
  },
  {
   "cell_type": "code",
   "execution_count": null,
   "id": "82ec1e8d-4b00-4135-acdf-be576bbd522a",
   "metadata": {},
   "outputs": [],
   "source": [
    "df.info()"
   ]
  },
  {
   "cell_type": "code",
   "execution_count": 32,
   "id": "ef2ea764-c610-4029-adae-147b9a602322",
   "metadata": {},
   "outputs": [],
   "source": [
    "columns_with_qm = df.columns[df.isin([\"?\"]).any()]"
   ]
  },
  {
   "cell_type": "code",
   "execution_count": null,
   "id": "cdfd5d62-0494-4e75-87b6-15c57c497c96",
   "metadata": {},
   "outputs": [],
   "source": [
    "columns_with_qm"
   ]
  },
  {
   "cell_type": "code",
   "execution_count": 36,
   "id": "d9097230-a97a-4ff2-b5e5-254e638d8f27",
   "metadata": {},
   "outputs": [],
   "source": [
    "for i in columns_with_qm:\n",
    "    mode=df[i].mode()\n",
    "    df.loc[df[i]==\"?\",i] = mode"
   ]
  },
  {
   "cell_type": "code",
   "execution_count": null,
   "id": "27b1d98b-84f7-47c0-8a6e-5f052c31c345",
   "metadata": {},
   "outputs": [],
   "source": [
    "df"
   ]
  },
  {
   "cell_type": "code",
   "execution_count": null,
   "id": "d1075928-2575-4fa8-8b62-180b0e1d783f",
   "metadata": {},
   "outputs": [],
   "source": [
    "df.info()"
   ]
  },
  {
   "cell_type": "code",
   "execution_count": 42,
   "id": "23a089d7-4090-4de4-9479-7aa2ff528348",
   "metadata": {},
   "outputs": [],
   "source": [
    "from sklearn.preprocessing import LabelEncoder"
   ]
  },
  {
   "cell_type": "code",
   "execution_count": 44,
   "id": "58077eae-312a-45f9-adad-cf044e1d1542",
   "metadata": {},
   "outputs": [],
   "source": [
    "le = LabelEncoder()"
   ]
  },
  {
   "cell_type": "code",
   "execution_count": 46,
   "id": "252a3e11-f76a-4ace-bc2e-425177e7cdfb",
   "metadata": {},
   "outputs": [],
   "source": [
    "df['ca'] = le.fit_transform(df['ca'])"
   ]
  },
  {
   "cell_type": "code",
   "execution_count": 48,
   "id": "84350348-6d23-4a7b-8309-d9fd437b45c0",
   "metadata": {},
   "outputs": [],
   "source": [
    "df['thal'] = le.fit_transform(df['thal'])"
   ]
  },
  {
   "cell_type": "code",
   "execution_count": null,
   "id": "2cfa9a0c-971d-44cb-b942-41fa54e9a1a1",
   "metadata": {},
   "outputs": [],
   "source": [
    "df.info()"
   ]
  },
  {
   "cell_type": "code",
   "execution_count": 52,
   "id": "8d255c73-2802-43b5-a609-33c122f7867e",
   "metadata": {},
   "outputs": [],
   "source": [
    "def outlier_remove(df,columns):\n",
    "    for i in columns:\n",
    "        z_score = np.absolute(stats.zscore(df[i]))\n",
    "        print(z_score)\n",
    "        df = df[z_score<3]\n",
    "        return df"
   ]
  },
  {
   "cell_type": "code",
   "execution_count": null,
   "id": "b4273814-eb45-41eb-ab7b-d43ebd2ebe9c",
   "metadata": {},
   "outputs": [],
   "source": [
    "df = outlier_remove(df, df.columns)"
   ]
  },
  {
   "cell_type": "code",
   "execution_count": null,
   "id": "d15a2302-afce-4f85-8822-69857796f518",
   "metadata": {},
   "outputs": [],
   "source": [
    "df"
   ]
  },
  {
   "cell_type": "code",
   "execution_count": 58,
   "id": "2b156f7d-4cd0-4bb9-890f-c93ad9603afa",
   "metadata": {},
   "outputs": [],
   "source": [
    "X = df.drop(\"target\", axis=1)"
   ]
  },
  {
   "cell_type": "code",
   "execution_count": 60,
   "id": "69eb28c4-45d3-49dd-8193-d0ac61f47b93",
   "metadata": {},
   "outputs": [],
   "source": [
    "y = df['target']"
   ]
  },
  {
   "cell_type": "code",
   "execution_count": null,
   "id": "1380f965-f33d-448d-b5b1-16c54cdfae23",
   "metadata": {},
   "outputs": [],
   "source": [
    "y"
   ]
  },
  {
   "cell_type": "code",
   "execution_count": 155,
   "id": "dadd897f-b961-4ed3-b83a-261da77332ca",
   "metadata": {},
   "outputs": [],
   "source": [
    "from sklearn.model_selection import train_test_split"
   ]
  },
  {
   "cell_type": "code",
   "execution_count": 157,
   "id": "39cf5246-2734-48ed-8e61-ffa96dc5c0fc",
   "metadata": {},
   "outputs": [],
   "source": [
    "X_train, X_test, y_train, y_test = train_test_split(X,y,test_size=0.2,random_state=42)"
   ]
  },
  {
   "cell_type": "code",
   "execution_count": 159,
   "id": "732fbbd5-ca14-4347-bf9f-0e2449f6d7fe",
   "metadata": {},
   "outputs": [],
   "source": [
    "from sklearn.preprocessing import StandardScaler"
   ]
  },
  {
   "cell_type": "code",
   "execution_count": 161,
   "id": "e8ef3ac7-f802-4e19-b215-d1c09a6a82ca",
   "metadata": {},
   "outputs": [],
   "source": [
    "sc = StandardScaler()"
   ]
  },
  {
   "cell_type": "code",
   "execution_count": 163,
   "id": "6c5cf758-9563-4fe1-8862-050070f4e423",
   "metadata": {},
   "outputs": [],
   "source": [
    "X_train = sc.fit_transform(X_train)"
   ]
  },
  {
   "cell_type": "code",
   "execution_count": 165,
   "id": "51f126af-3a53-4e83-aa70-955c1e9d6ffe",
   "metadata": {},
   "outputs": [],
   "source": [
    "X_test = sc.fit_transform(X_test)"
   ]
  },
  {
   "cell_type": "code",
   "execution_count": 167,
   "id": "c215efaf-d455-44c4-81cb-d05a87ac5526",
   "metadata": {},
   "outputs": [],
   "source": [
    "from sklearn.linear_model import LogisticRegression"
   ]
  },
  {
   "cell_type": "code",
   "execution_count": 169,
   "id": "0bd4d1a1-1a47-46e0-85df-0864c9457a5f",
   "metadata": {},
   "outputs": [],
   "source": [
    "lr = LogisticRegression()"
   ]
  },
  {
   "cell_type": "code",
   "execution_count": null,
   "id": "f16edf9f-6280-4ba3-9e92-0873483a2b65",
   "metadata": {},
   "outputs": [],
   "source": [
    "lr.fit(X_train,y_train)"
   ]
  },
  {
   "cell_type": "code",
   "execution_count": 173,
   "id": "615c1867-bdde-4202-a266-4fa7515e986a",
   "metadata": {},
   "outputs": [],
   "source": [
    "y_pred_lr = lr.predict(X_test)"
   ]
  },
  {
   "cell_type": "code",
   "execution_count": null,
   "id": "37aeddce-6129-4c0a-9fd5-fa53f603aaf1",
   "metadata": {},
   "outputs": [],
   "source": [
    "y_pred_lr"
   ]
  },
  {
   "cell_type": "code",
   "execution_count": 177,
   "id": "113f0a2e-f662-450f-8814-4ac1ae3a39d6",
   "metadata": {},
   "outputs": [],
   "source": [
    "from sklearn.metrics import classification_report"
   ]
  },
  {
   "cell_type": "code",
   "execution_count": 179,
   "id": "b8df5737-7ff1-426f-a6ae-03eb3b72c345",
   "metadata": {},
   "outputs": [],
   "source": [
    "import pprint"
   ]
  },
  {
   "cell_type": "code",
   "execution_count": null,
   "id": "98a2d8c9-4aaf-4646-8706-592b9e8bb62b",
   "metadata": {},
   "outputs": [],
   "source": [
    "pprint.pprint(classification_report(y_pred_lr,y_test))"
   ]
  },
  {
   "cell_type": "code",
   "execution_count": 183,
   "id": "664d7d45-0d9c-4ff7-841c-b7f58bfef3d0",
   "metadata": {},
   "outputs": [],
   "source": [
    "from sklearn.tree import DecisionTreeClassifier"
   ]
  },
  {
   "cell_type": "code",
   "execution_count": 185,
   "id": "2f32eb95-8ab9-44d9-ab0d-10c356042ec6",
   "metadata": {},
   "outputs": [],
   "source": [
    "dtc = DecisionTreeClassifier(criterion = \"entropy\")"
   ]
  },
  {
   "cell_type": "code",
   "execution_count": null,
   "id": "d796f4b8-54c1-4607-a086-f7785a5b5db0",
   "metadata": {},
   "outputs": [],
   "source": [
    "dtc.fit(X_train, y_train)"
   ]
  },
  {
   "cell_type": "code",
   "execution_count": 189,
   "id": "ec7c0119-1792-4d2b-8674-e1611c0ac0c8",
   "metadata": {},
   "outputs": [],
   "source": [
    "y_pred_dtce = dtc.predict(X_test)"
   ]
  },
  {
   "cell_type": "code",
   "execution_count": null,
   "id": "23da0fdc-77d2-4f48-8241-d8b6feb79e45",
   "metadata": {},
   "outputs": [],
   "source": [
    "y_pred_dtce"
   ]
  },
  {
   "cell_type": "code",
   "execution_count": 193,
   "id": "571acf65-f409-4c6b-835c-de616e62cf9d",
   "metadata": {},
   "outputs": [],
   "source": [
    "from sklearn.metrics import classification_report"
   ]
  },
  {
   "cell_type": "code",
   "execution_count": 195,
   "id": "9dfe927c-4e3f-4f28-9618-fcaab1557201",
   "metadata": {},
   "outputs": [],
   "source": [
    "import pprint"
   ]
  },
  {
   "cell_type": "code",
   "execution_count": null,
   "id": "17d3cd78-94f5-4229-b5df-11c5097ec2bb",
   "metadata": {},
   "outputs": [],
   "source": [
    "pprint.pprint(classification_report(y_pred_dtce,y_test))"
   ]
  },
  {
   "cell_type": "code",
   "execution_count": 199,
   "id": "3b2b9c9e-f466-4c4a-ad87-6a0f58d82f6a",
   "metadata": {},
   "outputs": [],
   "source": [
    "dtc = DecisionTreeClassifier()"
   ]
  },
  {
   "cell_type": "code",
   "execution_count": null,
   "id": "280b2e9b-927f-416d-84fa-2235253ca870",
   "metadata": {},
   "outputs": [],
   "source": [
    "dtc.fit(X_train, y_train)"
   ]
  },
  {
   "cell_type": "code",
   "execution_count": 203,
   "id": "92e44fd2-b744-4c8c-ac77-15345a83d136",
   "metadata": {},
   "outputs": [],
   "source": [
    "y_pred_dtcg = dtc.predict(X_test)"
   ]
  },
  {
   "cell_type": "code",
   "execution_count": null,
   "id": "58d18a9a-012f-4db2-b517-b3b1fb4f379a",
   "metadata": {},
   "outputs": [],
   "source": [
    "y_pred_dtcg"
   ]
  },
  {
   "cell_type": "code",
   "execution_count": 207,
   "id": "199360ba-d05c-4635-8f6f-483de7b98f19",
   "metadata": {},
   "outputs": [],
   "source": [
    "from sklearn.metrics import classification_report"
   ]
  },
  {
   "cell_type": "code",
   "execution_count": 209,
   "id": "b3542d69-9a6c-4d8c-8b81-c6fd4479a4d3",
   "metadata": {},
   "outputs": [],
   "source": [
    "import pprint"
   ]
  },
  {
   "cell_type": "code",
   "execution_count": null,
   "id": "af621748-4c00-43c8-b019-2eaf04c62ea8",
   "metadata": {},
   "outputs": [],
   "source": [
    "pprint.pprint(classification_report(y_pred_dtcg,y_test))"
   ]
  }
 ],
 "metadata": {
  "kernelspec": {
   "display_name": "Python 3 (ipykernel)",
   "language": "python",
   "name": "python3"
  },
  "language_info": {
   "codemirror_mode": {
    "name": "ipython",
    "version": 3
   },
   "file_extension": ".py",
   "mimetype": "text/x-python",
   "name": "python",
   "nbconvert_exporter": "python",
   "pygments_lexer": "ipython3",
   "version": "3.12.4"
  }
 },
 "nbformat": 4,
 "nbformat_minor": 5
}
